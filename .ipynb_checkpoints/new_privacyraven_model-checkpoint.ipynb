{
 "cells": [
  {
   "cell_type": "code",
   "execution_count": 8,
   "metadata": {},
   "outputs": [],
   "source": [
    "import pytorch_lightning as pl \n",
    "\n",
    "class FourLayerClassifier(pl.LightningModule):\n",
    "    def __init__(self, hparams):\n",
    "        super().__init__()\n",
    "        self.hparams = hparams\n",
    "        self.save_hyperparameters()        \n",
    "        self.fc1 = nn.Linear(self.hparams[\"input_size\"], 420)\n",
    "        self.fc2 = nn.Linear(420, 420)\n",
    "        self.fc3 = nn.Linear(420, 420)\n",
    "        self.fc4 = nn.Linear(420, self.hparams[\"targets\"])\n",
    "        self.dropout = nn.Dropout(0.4)\n",
    "\n",
    "        self.train_acc = pl.metrics.Accuracy()\n",
    "        self.valid_acc = pl.metrics.Accuracy()\n",
    "        self.test_acc = pl.metrics.Accuracy()\n",
    "\n",
    "    def forward(self, x):\n",
    "        x = x.view(x.size(0), -1)\n",
    "        x = F.relu(self.fc1(x))\n",
    "        x = self.dropout(x)\n",
    "        x = F.relu(self.fc2(x))\n",
    "        x = F.relu(self.fc3(x))\n",
    "        x = self.dropout(x)\n",
    "        x = self.fc4(x)\n",
    "        return x\n",
    "\n",
    "    def training_step(self, batch, batch_idx):\n",
    "        x, y = batch\n",
    "        y_hat = self(x)\n",
    "        loss = F.cross_entropy(y_hat, y)\n",
    "        self.log('train_loss', loss)\n",
    "        self.train_acc(y_hat, y)\n",
    "        self.log('train_acc', self.train_acc, on_step=True, on_epoch=False)\n",
    "        return loss\n",
    "\n",
    "    def validation_step(self, batch, batch_idx):\n",
    "        x, y = batch\n",
    "        y_hat = self(x)\n",
    "        loss = F.cross_entropy(y_hat, y)\n",
    "        self.log('valid_loss', loss)\n",
    "        self.valid_acc(y_hat, y)\n",
    "        self.log('valid_acc', self.valid_acc, on_step=True, on_epoch=True)\n",
    "\n",
    "\n",
    "    def test_step(self, batch, batch_idx):\n",
    "        x, y = batch\n",
    "        y_hat = self(x)\n",
    "        loss = F.cross_entropy(y_hat, y)\n",
    "        self.log('test_loss', loss)\n",
    "        self.test_acc(y_hat, y)\n",
    "        self.log('test_acc', self.test_acc, on_step=True, on_epoch=True)\n",
    "\n",
    "\n",
    "    def configure_optimizers(self):\n",
    "        return torch.optim.Adam(self.parameters(), self.hparams[\"learning_rate\"])\n"
   ]
  },
  {
   "cell_type": "code",
   "execution_count": 9,
   "metadata": {},
   "outputs": [
    {
     "name": "stderr",
     "output_type": "stream",
     "text": [
      "GPU available: True, used: True\n",
      "TPU available: None, using: 0 TPU cores\n",
      "LOCAL_RANK: 0 - CUDA_VISIBLE_DEVICES: [0]\n",
      "\n",
      "  | Name      | Type     | Params\n",
      "---------------------------------------\n",
      "0 | fc1       | Linear   | 329 K \n",
      "1 | fc2       | Linear   | 176 K \n",
      "2 | fc3       | Linear   | 176 K \n",
      "3 | fc4       | Linear   | 4.2 K \n",
      "4 | dropout   | Dropout  | 0     \n",
      "5 | train_acc | Accuracy | 0     \n",
      "6 | valid_acc | Accuracy | 0     \n",
      "7 | test_acc  | Accuracy | 0     \n",
      "---------------------------------------\n",
      "687 K     Trainable params\n",
      "0         Non-trainable params\n",
      "687 K     Total params\n"
     ]
    },
    {
     "data": {
      "application/vnd.jupyter.widget-view+json": {
       "model_id": "",
       "version_major": 2,
       "version_minor": 0
      },
      "text/plain": [
       "Validation sanity check: |          | 0/? [00:00<?, ?it/s]"
      ]
     },
     "metadata": {},
     "output_type": "display_data"
    },
    {
     "data": {
      "application/vnd.jupyter.widget-view+json": {
       "model_id": "96d4d4c7c1384da8bcba15ab4fe972ba",
       "version_major": 2,
       "version_minor": 0
      },
      "text/plain": [
       "Training: |          | 0/? [00:00<?, ?it/s]"
      ]
     },
     "metadata": {},
     "output_type": "display_data"
    },
    {
     "data": {
      "application/vnd.jupyter.widget-view+json": {
       "model_id": "",
       "version_major": 2,
       "version_minor": 0
      },
      "text/plain": [
       "Validating: |          | 0/? [00:00<?, ?it/s]"
      ]
     },
     "metadata": {},
     "output_type": "display_data"
    },
    {
     "data": {
      "application/vnd.jupyter.widget-view+json": {
       "model_id": "",
       "version_major": 2,
       "version_minor": 0
      },
      "text/plain": [
       "Validating: |          | 0/? [00:00<?, ?it/s]"
      ]
     },
     "metadata": {},
     "output_type": "display_data"
    },
    {
     "data": {
      "application/vnd.jupyter.widget-view+json": {
       "model_id": "",
       "version_major": 2,
       "version_minor": 0
      },
      "text/plain": [
       "Validating: |          | 0/? [00:00<?, ?it/s]"
      ]
     },
     "metadata": {},
     "output_type": "display_data"
    },
    {
     "data": {
      "application/vnd.jupyter.widget-view+json": {
       "model_id": "",
       "version_major": 2,
       "version_minor": 0
      },
      "text/plain": [
       "Validating: |          | 0/? [00:00<?, ?it/s]"
      ]
     },
     "metadata": {},
     "output_type": "display_data"
    },
    {
     "data": {
      "application/vnd.jupyter.widget-view+json": {
       "model_id": "",
       "version_major": 2,
       "version_minor": 0
      },
      "text/plain": [
       "Validating: |          | 0/? [00:00<?, ?it/s]"
      ]
     },
     "metadata": {},
     "output_type": "display_data"
    },
    {
     "data": {
      "application/vnd.jupyter.widget-view+json": {
       "model_id": "",
       "version_major": 2,
       "version_minor": 0
      },
      "text/plain": [
       "Validating: |          | 0/? [00:00<?, ?it/s]"
      ]
     },
     "metadata": {},
     "output_type": "display_data"
    },
    {
     "data": {
      "application/vnd.jupyter.widget-view+json": {
       "model_id": "",
       "version_major": 2,
       "version_minor": 0
      },
      "text/plain": [
       "Validating: |          | 0/? [00:00<?, ?it/s]"
      ]
     },
     "metadata": {},
     "output_type": "display_data"
    },
    {
     "data": {
      "application/vnd.jupyter.widget-view+json": {
       "model_id": "",
       "version_major": 2,
       "version_minor": 0
      },
      "text/plain": [
       "Validating: |          | 0/? [00:00<?, ?it/s]"
      ]
     },
     "metadata": {},
     "output_type": "display_data"
    },
    {
     "data": {
      "application/vnd.jupyter.widget-view+json": {
       "model_id": "2f7ce0bb76ef4dcab364480a50b116d1",
       "version_major": 2,
       "version_minor": 0
      },
      "text/plain": [
       "Testing: |          | 0/? [00:00<?, ?it/s]"
      ]
     },
     "metadata": {},
     "output_type": "display_data"
    },
    {
     "name": "stdout",
     "output_type": "stream",
     "text": [
      "--------------------------------------------------------------------------------\n",
      "DATALOADER:0 TEST RESULTS\n",
      "{'test_acc': tensor(0.9794, device='cuda:0'),\n",
      " 'test_acc_epoch': tensor(0.9794, device='cuda:0'),\n",
      " 'test_loss': tensor(0.0735, device='cuda:0'),\n",
      " 'valid_acc': tensor(0.9764, device='cuda:0'),\n",
      " 'valid_acc_epoch': tensor(0.9764, device='cuda:0'),\n",
      " 'valid_loss': tensor(0.0780, device='cuda:0')}\n",
      "--------------------------------------------------------------------------------\n"
     ]
    }
   ],
   "source": [
    "import torch\n",
    "from torch import nn\n",
    "from torch.nn import functional as F\n",
    "from torchvision import datasets, models, transforms\n",
    "from torchvision.datasets import MNIST\n",
    "\n",
    "from privacyraven.utils.data import get_mnist_loaders\n",
    "from privacyraven.utils.model_creation import (convert_to_inference,\n",
    "                                               set_hparams, train_and_test)\n",
    "\n",
    "def train_four_layer_mnist_model(\n",
    "    transform=None,\n",
    "    batch_size=100,\n",
    "    num_workers=4,\n",
    "    rand_split_val=None,\n",
    "    gpus=1,\n",
    "    max_epochs=8,\n",
    "    learning_rate=1e-3,\n",
    "):\n",
    "    input_size = 784\n",
    "    targets = 10\n",
    "    if transform is None:\n",
    "        transform = transforms.Compose(\n",
    "            [transforms.ToTensor(), transforms.Normalize((0.1307,), (0.3081,))]\n",
    "        )\n",
    "    if rand_split_val is None:\n",
    "        rand_split_val = [55000, 5000]\n",
    "\n",
    "    # Establish hyperparameters and DataLoaders\n",
    "    hparams = set_hparams(\n",
    "        transform,\n",
    "        batch_size,\n",
    "        num_workers,\n",
    "        gpus,\n",
    "        max_epochs,\n",
    "        learning_rate,\n",
    "        input_size,\n",
    "        targets,\n",
    "    )\n",
    "\n",
    "    train_dataloader, val_dataloader, test_dataloader = get_mnist_loaders(hparams)\n",
    "    \n",
    "    # Train, test, and convert the model to inference\n",
    "    mnist_model = train_and_test(\n",
    "        FourLayerClassifier, train_dataloader, val_dataloader, test_dataloader, hparams\n",
    "    )\n",
    "    mnist_model = convert_to_inference(mnist_model)\n",
    "    return mnist_model\n",
    "\n",
    "new_model = train_four_layer_mnist_model()"
   ]
  },
  {
   "cell_type": "code",
   "execution_count": 10,
   "metadata": {},
   "outputs": [
    {
     "name": "stderr",
     "output_type": "stream",
     "text": [
      "GPU available: True, used: True\n",
      "TPU available: None, using: 0 TPU cores\n",
      "LOCAL_RANK: 0 - CUDA_VISIBLE_DEVICES: [0]\n",
      "\n",
      "  | Name      | Type     | Params\n",
      "---------------------------------------\n",
      "0 | fc1       | Linear   | 329 K \n",
      "1 | fc2       | Linear   | 176 K \n",
      "2 | fc3       | Linear   | 176 K \n",
      "3 | fc4       | Linear   | 4.2 K \n",
      "4 | dropout   | Dropout  | 0     \n",
      "5 | train_acc | Accuracy | 0     \n",
      "6 | valid_acc | Accuracy | 0     \n",
      "7 | test_acc  | Accuracy | 0     \n",
      "---------------------------------------\n",
      "687 K     Trainable params\n",
      "0         Non-trainable params\n",
      "687 K     Total params\n"
     ]
    },
    {
     "name": "stdout",
     "output_type": "stream",
     "text": [
      "Synthesis complete\n",
      "Synthetic Data Generated\n"
     ]
    },
    {
     "data": {
      "application/vnd.jupyter.widget-view+json": {
       "model_id": "",
       "version_major": 2,
       "version_minor": 0
      },
      "text/plain": [
       "Validation sanity check: |          | 0/? [00:00<?, ?it/s]"
      ]
     },
     "metadata": {},
     "output_type": "display_data"
    },
    {
     "data": {
      "application/vnd.jupyter.widget-view+json": {
       "model_id": "db6ce0a886cb4459bdefefc1af301bde",
       "version_major": 2,
       "version_minor": 0
      },
      "text/plain": [
       "Training: |          | 0/? [00:00<?, ?it/s]"
      ]
     },
     "metadata": {},
     "output_type": "display_data"
    },
    {
     "data": {
      "application/vnd.jupyter.widget-view+json": {
       "model_id": "",
       "version_major": 2,
       "version_minor": 0
      },
      "text/plain": [
       "Validating: |          | 0/? [00:00<?, ?it/s]"
      ]
     },
     "metadata": {},
     "output_type": "display_data"
    },
    {
     "data": {
      "application/vnd.jupyter.widget-view+json": {
       "model_id": "",
       "version_major": 2,
       "version_minor": 0
      },
      "text/plain": [
       "Validating: |          | 0/? [00:00<?, ?it/s]"
      ]
     },
     "metadata": {},
     "output_type": "display_data"
    },
    {
     "data": {
      "application/vnd.jupyter.widget-view+json": {
       "model_id": "",
       "version_major": 2,
       "version_minor": 0
      },
      "text/plain": [
       "Validating: |          | 0/? [00:00<?, ?it/s]"
      ]
     },
     "metadata": {},
     "output_type": "display_data"
    },
    {
     "data": {
      "application/vnd.jupyter.widget-view+json": {
       "model_id": "",
       "version_major": 2,
       "version_minor": 0
      },
      "text/plain": [
       "Validating: |          | 0/? [00:00<?, ?it/s]"
      ]
     },
     "metadata": {},
     "output_type": "display_data"
    },
    {
     "data": {
      "application/vnd.jupyter.widget-view+json": {
       "model_id": "",
       "version_major": 2,
       "version_minor": 0
      },
      "text/plain": [
       "Validating: |          | 0/? [00:00<?, ?it/s]"
      ]
     },
     "metadata": {},
     "output_type": "display_data"
    },
    {
     "data": {
      "application/vnd.jupyter.widget-view+json": {
       "model_id": "",
       "version_major": 2,
       "version_minor": 0
      },
      "text/plain": [
       "Validating: |          | 0/? [00:00<?, ?it/s]"
      ]
     },
     "metadata": {},
     "output_type": "display_data"
    },
    {
     "data": {
      "application/vnd.jupyter.widget-view+json": {
       "model_id": "",
       "version_major": 2,
       "version_minor": 0
      },
      "text/plain": [
       "Validating: |          | 0/? [00:00<?, ?it/s]"
      ]
     },
     "metadata": {},
     "output_type": "display_data"
    },
    {
     "data": {
      "application/vnd.jupyter.widget-view+json": {
       "model_id": "",
       "version_major": 2,
       "version_minor": 0
      },
      "text/plain": [
       "Validating: |          | 0/? [00:00<?, ?it/s]"
      ]
     },
     "metadata": {},
     "output_type": "display_data"
    },
    {
     "data": {
      "application/vnd.jupyter.widget-view+json": {
       "model_id": "",
       "version_major": 2,
       "version_minor": 0
      },
      "text/plain": [
       "Validating: |          | 0/? [00:00<?, ?it/s]"
      ]
     },
     "metadata": {},
     "output_type": "display_data"
    },
    {
     "data": {
      "application/vnd.jupyter.widget-view+json": {
       "model_id": "",
       "version_major": 2,
       "version_minor": 0
      },
      "text/plain": [
       "Validating: |          | 0/? [00:00<?, ?it/s]"
      ]
     },
     "metadata": {},
     "output_type": "display_data"
    },
    {
     "data": {
      "application/vnd.jupyter.widget-view+json": {
       "model_id": "b74016a2b2ef4a3691e8a8509af26b16",
       "version_major": 2,
       "version_minor": 0
      },
      "text/plain": [
       "Testing: |          | 0/? [00:00<?, ?it/s]"
      ]
     },
     "metadata": {},
     "output_type": "display_data"
    },
    {
     "name": "stdout",
     "output_type": "stream",
     "text": [
      "--------------------------------------------------------------------------------\n",
      "DATALOADER:0 TEST RESULTS\n",
      "{'test_acc': tensor(0.3400, device='cuda:0'),\n",
      " 'test_acc_epoch': tensor(0.3400, device='cuda:0'),\n",
      " 'test_loss': tensor(4.6119, device='cuda:0'),\n",
      " 'valid_acc': tensor(0.1500, device='cuda:0'),\n",
      " 'valid_acc_epoch': tensor(0.1500, device='cuda:0'),\n",
      " 'valid_loss': tensor(6.8039, device='cuda:0')}\n",
      "--------------------------------------------------------------------------------\n",
      "Out of 100 data points, the models agreed upon 27.\n"
     ]
    }
   ],
   "source": [
    "import privacyraven as pr\n",
    "\n",
    "from privacyraven.utils.data import get_emnist_data\n",
    "from privacyraven.extraction.core import ModelExtractionAttack\n",
    "from privacyraven.utils.query import get_target\n",
    "from privacyraven.models.victim import train_four_layer_mnist_victim\n",
    "from privacyraven.models.four_layer import FourLayerClassifier\n",
    "\n",
    "# Create a query function for a target PyTorch Lightning model\n",
    "#model = train_four_layer_mnist_model()\n",
    "\n",
    "\n",
    "def query_mnist(input_data):\n",
    "    # PrivacyRaven provides built-in query functions\n",
    "    return get_target(new_model, input_data, (1, 28, 28, 1))\n",
    "\n",
    "# Obtain seed (or public) data to be used in extraction\n",
    "emnist_train, emnist_test = get_emnist_data()\n",
    "\n",
    "# Run a model extraction attack\n",
    "attack = ModelExtractionAttack(\n",
    "    query_mnist,\n",
    "    100,\n",
    "    (1, 28, 28, 1),\n",
    "    10,\n",
    "    (3, 1, 28, 28),\n",
    "    \"copycat\",\n",
    "    FourLayerClassifier,\n",
    "    784,\n",
    "    emnist_train,\n",
    "    emnist_test\n",
    ")"
   ]
  },
  {
   "cell_type": "code",
   "execution_count": null,
   "metadata": {},
   "outputs": [],
   "source": []
  }
 ],
 "metadata": {
  "kernelspec": {
   "display_name": "Python 3",
   "language": "python",
   "name": "python3"
  },
  "language_info": {
   "codemirror_mode": {
    "name": "ipython",
    "version": 3
   },
   "file_extension": ".py",
   "mimetype": "text/x-python",
   "name": "python",
   "nbconvert_exporter": "python",
   "pygments_lexer": "ipython3",
   "version": "3.7.3"
  }
 },
 "nbformat": 4,
 "nbformat_minor": 4
}
