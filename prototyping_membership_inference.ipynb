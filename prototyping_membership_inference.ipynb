{
 "cells": [
  {
   "cell_type": "code",
   "execution_count": 2,
   "metadata": {},
   "outputs": [
    {
     "name": "stderr",
     "output_type": "stream",
     "text": [
      "GPU available: True, used: True\n",
      "TPU available: None, using: 0 TPU cores\n",
      "LOCAL_RANK: 0 - CUDA_VISIBLE_DEVICES: [0]\n",
      "\n",
      "  | Name    | Type   | Params\n",
      "-----------------------------------\n",
      "0 | layer_1 | Linear | 100 K \n",
      "1 | layer_2 | Linear | 33.0 K\n",
      "2 | layer_3 | Linear | 2.6 K \n",
      "-----------------------------------\n",
      "136 K     Trainable params\n",
      "0         Non-trainable params\n",
      "136 K     Total params\n"
     ]
    },
    {
     "data": {
      "application/vnd.jupyter.widget-view+json": {
       "model_id": "",
       "version_major": 2,
       "version_minor": 0
      },
      "text/plain": [
       "Validation sanity check: |          | 0/? [00:00<?, ?it/s]"
      ]
     },
     "metadata": {},
     "output_type": "display_data"
    },
    {
     "name": "stderr",
     "output_type": "stream",
     "text": [
      "/home/suhacker/.cache/pypoetry/virtualenvs/privacyraven-L5F_QRuO-py3.8/lib/python3.8/site-packages/pytorch_lightning/utilities/distributed.py:49: UserWarning: The validation_epoch_end should not return anything as of 9.1. To log, use self.log(...) or self.write(...) directly in the LightningModule\n",
      "  warnings.warn(*args, **kwargs)\n",
      "/home/suhacker/.cache/pypoetry/virtualenvs/privacyraven-L5F_QRuO-py3.8/lib/python3.8/site-packages/pytorch_lightning/utilities/distributed.py:49: UserWarning: The {log:dict keyword} was deprecated in 0.9.1 and will be removed in 1.0.0\n",
      "Please use self.log(...) inside the lightningModule instead.\n",
      "\n",
      "# log on a step or aggregate epoch metric to the logger and/or progress bar\n",
      "# (inside LightningModule)\n",
      "self.log('train_loss', loss, on_step=True, on_epoch=True, prog_bar=True)\n",
      "  warnings.warn(*args, **kwargs)\n"
     ]
    },
    {
     "data": {
      "application/vnd.jupyter.widget-view+json": {
       "model_id": "cec3339e754c4d09a3a7a246d011b60c",
       "version_major": 2,
       "version_minor": 0
      },
      "text/plain": [
       "Training: |          | 0/? [00:00<?, ?it/s]"
      ]
     },
     "metadata": {},
     "output_type": "display_data"
    },
    {
     "data": {
      "application/vnd.jupyter.widget-view+json": {
       "model_id": "",
       "version_major": 2,
       "version_minor": 0
      },
      "text/plain": [
       "Validating: |          | 0/? [00:00<?, ?it/s]"
      ]
     },
     "metadata": {},
     "output_type": "display_data"
    },
    {
     "data": {
      "application/vnd.jupyter.widget-view+json": {
       "model_id": "",
       "version_major": 2,
       "version_minor": 0
      },
      "text/plain": [
       "Validating: |          | 0/? [00:00<?, ?it/s]"
      ]
     },
     "metadata": {},
     "output_type": "display_data"
    },
    {
     "data": {
      "application/vnd.jupyter.widget-view+json": {
       "model_id": "",
       "version_major": 2,
       "version_minor": 0
      },
      "text/plain": [
       "Validating: |          | 0/? [00:00<?, ?it/s]"
      ]
     },
     "metadata": {},
     "output_type": "display_data"
    },
    {
     "data": {
      "application/vnd.jupyter.widget-view+json": {
       "model_id": "",
       "version_major": 2,
       "version_minor": 0
      },
      "text/plain": [
       "Validating: |          | 0/? [00:00<?, ?it/s]"
      ]
     },
     "metadata": {},
     "output_type": "display_data"
    },
    {
     "data": {
      "application/vnd.jupyter.widget-view+json": {
       "model_id": "",
       "version_major": 2,
       "version_minor": 0
      },
      "text/plain": [
       "Validating: |          | 0/? [00:00<?, ?it/s]"
      ]
     },
     "metadata": {},
     "output_type": "display_data"
    },
    {
     "data": {
      "application/vnd.jupyter.widget-view+json": {
       "model_id": "",
       "version_major": 2,
       "version_minor": 0
      },
      "text/plain": [
       "Validating: |          | 0/? [00:00<?, ?it/s]"
      ]
     },
     "metadata": {},
     "output_type": "display_data"
    },
    {
     "data": {
      "application/vnd.jupyter.widget-view+json": {
       "model_id": "",
       "version_major": 2,
       "version_minor": 0
      },
      "text/plain": [
       "Validating: |          | 0/? [00:00<?, ?it/s]"
      ]
     },
     "metadata": {},
     "output_type": "display_data"
    },
    {
     "data": {
      "application/vnd.jupyter.widget-view+json": {
       "model_id": "",
       "version_major": 2,
       "version_minor": 0
      },
      "text/plain": [
       "Validating: |          | 0/? [00:00<?, ?it/s]"
      ]
     },
     "metadata": {},
     "output_type": "display_data"
    },
    {
     "data": {
      "application/vnd.jupyter.widget-view+json": {
       "model_id": "943692adb4a04e5bace8ba8339859d85",
       "version_major": 2,
       "version_minor": 0
      },
      "text/plain": [
       "Testing: |          | 0/? [00:00<?, ?it/s]"
      ]
     },
     "metadata": {},
     "output_type": "display_data"
    },
    {
     "name": "stderr",
     "output_type": "stream",
     "text": [
      "/home/suhacker/.cache/pypoetry/virtualenvs/privacyraven-L5F_QRuO-py3.8/lib/python3.8/site-packages/pytorch_lightning/utilities/distributed.py:49: UserWarning: The testing_epoch_end should not return anything as of 9.1. To log, use self.log(...) or self.write(...) directly in the LightningModule\n",
      "  warnings.warn(*args, **kwargs)\n"
     ]
    },
    {
     "name": "stdout",
     "output_type": "stream",
     "text": [
      "--------------------------------------------------------------------------------\n",
      "DATALOADER:0 TEST RESULTS\n",
      "{'avg_test_loss': tensor(0.0946, device='cuda:0'),\n",
      " 'avg_val_loss': tensor(0.1183, device='cuda:0'),\n",
      " 'test_loss': tensor(0.0946, device='cuda:0'),\n",
      " 'val_loss': tensor(0.1183, device='cuda:0')}\n",
      "--------------------------------------------------------------------------------\n",
      "Synthesis complete\n",
      "Synthetic Data Generated\n"
     ]
    },
    {
     "name": "stderr",
     "output_type": "stream",
     "text": [
      "GPU available: True, used: True\n",
      "TPU available: None, using: 0 TPU cores\n",
      "LOCAL_RANK: 0 - CUDA_VISIBLE_DEVICES: [0]\n",
      "\n",
      "  | Name              | Type        | Params\n",
      "--------------------------------------------------\n",
      "0 | feature_extractor | MobileNetV2 | 3.5 M \n",
      "1 | layer_1           | Linear      | 128 K \n",
      "2 | layer_2           | Linear      | 33.0 K\n",
      "3 | layer_3           | Linear      | 2.6 K \n",
      "--------------------------------------------------\n",
      "3.7 M     Trainable params\n",
      "0         Non-trainable params\n",
      "3.7 M     Total params\n"
     ]
    },
    {
     "data": {
      "application/vnd.jupyter.widget-view+json": {
       "model_id": "",
       "version_major": 2,
       "version_minor": 0
      },
      "text/plain": [
       "Validation sanity check: |          | 0/? [00:00<?, ?it/s]"
      ]
     },
     "metadata": {},
     "output_type": "display_data"
    },
    {
     "data": {
      "application/vnd.jupyter.widget-view+json": {
       "model_id": "2a9a5d17874c4e7495f2ea92e26c2d10",
       "version_major": 2,
       "version_minor": 0
      },
      "text/plain": [
       "Training: |          | 0/? [00:00<?, ?it/s]"
      ]
     },
     "metadata": {},
     "output_type": "display_data"
    },
    {
     "data": {
      "application/vnd.jupyter.widget-view+json": {
       "model_id": "",
       "version_major": 2,
       "version_minor": 0
      },
      "text/plain": [
       "Validating: |          | 0/? [00:00<?, ?it/s]"
      ]
     },
     "metadata": {},
     "output_type": "display_data"
    },
    {
     "data": {
      "application/vnd.jupyter.widget-view+json": {
       "model_id": "",
       "version_major": 2,
       "version_minor": 0
      },
      "text/plain": [
       "Validating: |          | 0/? [00:00<?, ?it/s]"
      ]
     },
     "metadata": {},
     "output_type": "display_data"
    },
    {
     "data": {
      "application/vnd.jupyter.widget-view+json": {
       "model_id": "",
       "version_major": 2,
       "version_minor": 0
      },
      "text/plain": [
       "Validating: |          | 0/? [00:00<?, ?it/s]"
      ]
     },
     "metadata": {},
     "output_type": "display_data"
    },
    {
     "data": {
      "application/vnd.jupyter.widget-view+json": {
       "model_id": "",
       "version_major": 2,
       "version_minor": 0
      },
      "text/plain": [
       "Validating: |          | 0/? [00:00<?, ?it/s]"
      ]
     },
     "metadata": {},
     "output_type": "display_data"
    },
    {
     "data": {
      "application/vnd.jupyter.widget-view+json": {
       "model_id": "",
       "version_major": 2,
       "version_minor": 0
      },
      "text/plain": [
       "Validating: |          | 0/? [00:00<?, ?it/s]"
      ]
     },
     "metadata": {},
     "output_type": "display_data"
    },
    {
     "data": {
      "application/vnd.jupyter.widget-view+json": {
       "model_id": "",
       "version_major": 2,
       "version_minor": 0
      },
      "text/plain": [
       "Validating: |          | 0/? [00:00<?, ?it/s]"
      ]
     },
     "metadata": {},
     "output_type": "display_data"
    },
    {
     "data": {
      "application/vnd.jupyter.widget-view+json": {
       "model_id": "",
       "version_major": 2,
       "version_minor": 0
      },
      "text/plain": [
       "Validating: |          | 0/? [00:00<?, ?it/s]"
      ]
     },
     "metadata": {},
     "output_type": "display_data"
    },
    {
     "data": {
      "application/vnd.jupyter.widget-view+json": {
       "model_id": "",
       "version_major": 2,
       "version_minor": 0
      },
      "text/plain": [
       "Validating: |          | 0/? [00:00<?, ?it/s]"
      ]
     },
     "metadata": {},
     "output_type": "display_data"
    },
    {
     "data": {
      "application/vnd.jupyter.widget-view+json": {
       "model_id": "",
       "version_major": 2,
       "version_minor": 0
      },
      "text/plain": [
       "Validating: |          | 0/? [00:00<?, ?it/s]"
      ]
     },
     "metadata": {},
     "output_type": "display_data"
    },
    {
     "data": {
      "application/vnd.jupyter.widget-view+json": {
       "model_id": "",
       "version_major": 2,
       "version_minor": 0
      },
      "text/plain": [
       "Validating: |          | 0/? [00:00<?, ?it/s]"
      ]
     },
     "metadata": {},
     "output_type": "display_data"
    },
    {
     "data": {
      "application/vnd.jupyter.widget-view+json": {
       "model_id": "84aef11f5fc646ab838a0f89b5ff8afd",
       "version_major": 2,
       "version_minor": 0
      },
      "text/plain": [
       "Testing: |          | 0/? [00:00<?, ?it/s]"
      ]
     },
     "metadata": {},
     "output_type": "display_data"
    },
    {
     "name": "stdout",
     "output_type": "stream",
     "text": [
      "--------------------------------------------------------------------------------\n",
      "DATALOADER:0 TEST RESULTS\n",
      "{'avg_test_loss': tensor(6.3549, device='cuda:0'),\n",
      " 'avg_val_loss': tensor(4.9682, device='cuda:0'),\n",
      " 'test_loss': tensor(6.3549, device='cuda:0'),\n",
      " 'val_loss': tensor(4.9682, device='cuda:0')}\n",
      "--------------------------------------------------------------------------------\n",
      "Out of 100 data points, the models agreed upon 4.\n"
     ]
    }
   ],
   "source": [
    "import privacyraven as pr\n",
    "\n",
    "from privacyraven.utils.data import get_emnist_data\n",
    "from privacyraven.extraction.core import ModelExtractionAttack\n",
    "from privacyraven.utils.query import get_target\n",
    "from privacyraven.models.victim import train_mnist_victim\n",
    "from privacyraven.models.pytorch import ImagenetTransferLearning, ThreeLayerClassifier\n",
    "#from pl_bolts.callbacks import PrintTableMetricsCallback\n",
    "\n",
    "#callback = PrintTableMetricsCallback()\n",
    "\n",
    "# Create a query function for a target PyTorch Lightning model\n",
    "model = train_mnist_victim()\n",
    "\n",
    "\n",
    "def query_mnist(input_data):\n",
    "    # PrivacyRaven provides built-in query functions\n",
    "    return get_target(model, input_data, (1, 1, 28, 28))\n",
    "\n",
    "# Obtain seed (or public) data to be used in extraction\n",
    "emnist_train, emnist_test = get_emnist_data()\n",
    "\n",
    "# Run a model extraction attack\n",
    "attack = ModelExtractionAttack(\n",
    "    query=query_mnist,\n",
    "    query_limit=100,\n",
    "    victim_input_shape=(1, 1, 28, 28),\n",
    "    victim_output_targets=10,\n",
    "    substitute_input_shape=(1, 3, 28, 28),\n",
    "    synthesizer=\"copycat\",\n",
    "    substitute_model_arch=ImagenetTransferLearning,\n",
    "    substitute_input_size=1000,\n",
    "    seed_data_train=emnist_train,\n",
    "    seed_data_test=emnist_test,\n",
    "    #callback=callback\n",
    ")\n",
    "\n"
   ]
  },
  {
   "cell_type": "code",
   "execution_count": 12,
   "metadata": {},
   "outputs": [],
   "source": [
    "from privacyraven.extraction.synthesis import process_data\n",
    "from privacyraven.utils.query import query_model\n",
    "import torch.nn as nn\n",
    "import torch\n",
    "\n",
    "shadow = attack.substitute_model\n",
    "\n",
    "x, y = process_data(emnist_train, 100)\n",
    "pred, target = query_model(shadow, x, (1, 3, 28, 28))\n",
    "\n",
    "#print(target)\n",
    "\n",
    "loss = nn.KLDivLoss()\n",
    "output = loss(target, y)"
   ]
  },
  {
   "cell_type": "code",
   "execution_count": 17,
   "metadata": {},
   "outputs": [
    {
     "data": {
      "text/plain": [
       "tensor([ -4.8960,  -0.0745,  -3.6404,  -7.6028, -12.4344,  -5.3274, -12.8102,\n",
       "         -3.5055,  -9.7147,  -5.9549], device='cuda:0')"
      ]
     },
     "execution_count": 17,
     "metadata": {},
     "output_type": "execute_result"
    }
   ],
   "source": [
    "from pytorch_lightning.metrics.functional.classification import multiclass_auroc\n",
    "import torch\n",
    "#from pytorch_lightning import metrics\n",
    "#import pytorch_lightning.metrics.functional.classification \n",
    "a = torch.unbind(pred)\n",
    "a[0]\n",
    "#print(torch.allclose(a[0].sum(dim=1), torch.tensor(1.0)))\n",
    "#result = multiclass_auroc(pred, y)"
   ]
  },
  {
   "cell_type": "code",
   "execution_count": 19,
   "metadata": {},
   "outputs": [
    {
     "data": {
      "text/plain": [
       "tensor([[-2.3873e+00, -7.2199e+00, -2.4925e+00, -1.4070e+01, -1.2093e+01,\n",
       "         -8.1952e+00, -1.3630e+01, -1.9339e-01, -8.2847e+00, -1.3856e+01],\n",
       "        [-1.3729e+00, -8.7627e+00, -5.0576e+00, -1.3144e+01, -1.1808e+01,\n",
       "         -7.6598e+00, -1.3253e+01, -3.0230e-01, -7.5802e+00, -1.3306e+01],\n",
       "        [-3.3231e+00, -1.1280e+01, -6.5730e+00, -1.7831e+01, -1.6125e+01,\n",
       "         -1.0907e+01, -1.7468e+01, -3.8209e-02, -1.0897e+01, -1.7820e+01],\n",
       "        [-4.5654e+00, -8.5395e+00, -6.0797e+00, -1.4344e+01, -1.3738e+01,\n",
       "         -8.0467e+00, -1.3982e+01, -1.4020e-02, -7.2524e+00, -1.4702e+01],\n",
       "        [-2.5216e+00, -7.2489e+00, -1.2544e+00, -1.4484e+01, -1.2402e+01,\n",
       "         -7.7581e+00, -1.4178e+01, -4.5699e-01, -9.1747e+00, -1.4190e+01],\n",
       "        [-1.9666e+00, -8.0736e+00, -4.1650e+00, -1.3359e+01, -1.2193e+01,\n",
       "         -7.4865e+00, -1.3433e+01, -1.7053e-01, -7.7146e+00, -1.3685e+01],\n",
       "        [-3.3095e+00, -6.6749e+00, -4.7607e+00, -1.0868e+01, -1.0200e+01,\n",
       "         -5.3785e+00, -1.0567e+01, -8.8636e-02, -3.3887e+00, -1.1254e+01],\n",
       "        [-6.2006e+00, -1.6384e+00, -2.9756e+00, -1.4650e+01, -1.2658e+01,\n",
       "         -8.6638e+00, -1.3816e+01, -2.8587e-01, -6.7861e+00, -1.2491e+01],\n",
       "        [-2.2009e+00, -8.8885e+00, -3.4402e+00, -1.5455e+01, -1.3539e+01,\n",
       "         -8.6148e+00, -1.5141e+01, -1.5456e-01, -8.9758e+00, -1.5533e+01],\n",
       "        [-1.0042e-02, -1.6908e+01, -1.0216e+01, -1.9912e+01, -1.8183e+01,\n",
       "         -1.2518e+01, -2.2101e+01, -4.6100e+00, -1.4432e+01, -2.1932e+01],\n",
       "        [-2.7144e+00, -7.3811e+00, -8.9089e-01, -1.5503e+01, -1.3317e+01,\n",
       "         -7.8619e+00, -1.5145e+01, -6.4934e-01, -9.6759e+00, -1.5106e+01],\n",
       "        [-9.6126e-01, -8.3208e+00, -3.5091e+00, -1.3830e+01, -1.1945e+01,\n",
       "         -7.7280e+00, -1.4101e+01, -5.3311e-01, -8.5474e+00, -1.4137e+01],\n",
       "        [-2.7444e+00, -9.4598e+00, -4.7811e+00, -1.5437e+01, -1.3842e+01,\n",
       "         -9.3060e+00, -1.5187e+01, -7.5725e-02, -9.3380e+00, -1.5552e+01],\n",
       "        [-3.2463e+00, -6.5175e+00, -3.1644e+00, -1.2619e+01, -1.1659e+01,\n",
       "         -7.9690e+00, -1.2514e+01, -8.7565e-02, -7.0801e+00, -1.2783e+01],\n",
       "        [-2.6544e+00, -7.0999e+00, -4.1511e+00, -1.1908e+01, -1.0852e+01,\n",
       "         -6.1563e+00, -1.1822e+01, -9.7323e-02, -5.6099e+00, -1.2194e+01],\n",
       "        [-3.2023e+00, -6.4292e+00, -3.6075e+00, -1.2018e+01, -1.1246e+01,\n",
       "         -6.2912e+00, -1.1796e+01, -7.8223e-02, -5.5329e+00, -1.2187e+01],\n",
       "        [-3.0287e+00, -1.0252e+01, -6.1608e+00, -1.5503e+01, -1.4957e+01,\n",
       "         -9.2667e+00, -1.5438e+01, -5.2030e-02, -9.4294e+00, -1.6134e+01],\n",
       "        [-4.1956e+00, -9.3477e+00, -6.8915e+00, -1.4195e+01, -1.3618e+01,\n",
       "         -6.4516e+00, -1.4135e+01, -2.0965e-02, -5.8092e+00, -1.4872e+01],\n",
       "        [-6.9913e-02, -1.3771e+01, -8.1038e+00, -1.7890e+01, -1.6233e+01,\n",
       "         -1.1168e+01, -1.9472e+01, -2.7000e+00, -1.2684e+01, -1.9243e+01],\n",
       "        [-5.2092e+00, -9.2228e+00, -7.6256e+00, -1.4108e+01, -1.3933e+01,\n",
       "         -7.3743e+00, -1.3604e+01, -8.4103e-03, -6.3818e+00, -1.4648e+01],\n",
       "        [-3.9080e+00, -8.7646e+00, -1.5200e-01, -1.7282e+01, -1.3786e+01,\n",
       "         -1.1201e+01, -1.6661e+01, -2.1140e+00, -1.2008e+01, -1.5998e+01],\n",
       "        [-1.8375e+00, -1.0296e+01, -6.7095e+00, -1.5167e+01, -1.4657e+01,\n",
       "         -5.7759e+00, -1.5618e+01, -1.7910e-01, -7.8039e+00, -1.6601e+01],\n",
       "        [-3.3868e+00, -9.1179e+00, -5.8370e+00, -1.4581e+01, -1.3047e+01,\n",
       "         -8.5405e+00, -1.4196e+01, -3.7945e-02, -8.5568e+00, -1.4690e+01],\n",
       "        [-1.4477e+00, -1.0477e+01, -5.1697e+00, -1.6087e+01, -1.4617e+01,\n",
       "         -8.6347e+00, -1.6296e+01, -2.7580e-01, -1.0352e+01, -1.6552e+01],\n",
       "        [-7.6796e+00, -1.5351e+01, -1.2926e+01, -2.0728e+01, -2.0750e+01,\n",
       "         -1.2541e+01, -1.9974e+01, -4.7696e-04, -1.1691e+01, -2.1464e+01],\n",
       "        [-4.3920e+00, -9.9087e+00, -6.3804e+00, -1.6105e+01, -1.5064e+01,\n",
       "         -9.9050e+00, -1.5545e+01, -1.4337e-02, -9.6578e+00, -1.6158e+01],\n",
       "        [-1.7098e+00, -7.8752e+00, -3.6868e+00, -1.2147e+01, -1.0898e+01,\n",
       "         -7.4345e+00, -1.2243e+01, -2.3333e-01, -6.7703e+00, -1.2405e+01],\n",
       "        [-1.9971e+00, -9.2966e+00, -3.8547e+00, -1.5067e+01, -1.3475e+01,\n",
       "         -7.2339e+00, -1.4888e+01, -1.7184e-01, -8.7499e+00, -1.5209e+01],\n",
       "        [-3.0623e+00, -7.3200e+00, -7.9624e-01, -1.5175e+01, -1.3039e+01,\n",
       "         -7.8492e+00, -1.4530e+01, -6.9100e-01, -9.5826e+00, -1.4617e+01],\n",
       "        [-3.3886e+00, -7.8349e+00, -4.2257e+00, -1.3702e+01, -1.2583e+01,\n",
       "         -7.7303e+00, -1.3385e+01, -5.0994e-02, -7.5985e+00, -1.3676e+01],\n",
       "        [-1.2738e+00, -6.0283e+00, -2.2227e+00, -1.0419e+01, -9.3289e+00,\n",
       "         -5.9837e+00, -1.0686e+01, -5.0805e-01, -5.2669e+00, -1.0915e+01],\n",
       "        [-8.0992e-01, -7.0420e+00, -1.6554e+00, -1.1761e+01, -9.2917e+00,\n",
       "         -7.6555e+00, -1.2213e+01, -1.0157e+00, -7.6464e+00, -1.1578e+01],\n",
       "        [-5.6250e+00, -8.6091e+00, -6.8319e+00, -1.4169e+01, -1.3608e+01,\n",
       "         -8.1403e+00, -1.3448e+01, -6.4408e-03, -6.6792e+00, -1.4093e+01],\n",
       "        [-2.8016e+00, -6.9538e+00, -1.2026e+00, -1.5133e+01, -1.2938e+01,\n",
       "         -8.4674e+00, -1.4648e+01, -4.5008e-01, -9.0368e+00, -1.4515e+01],\n",
       "        [-4.8111e+00, -1.3471e+00, -2.1349e+00, -1.2496e+01, -1.0728e+01,\n",
       "         -7.1395e+00, -1.2124e+01, -4.9513e-01, -5.7170e+00, -1.0853e+01],\n",
       "        [-4.8085e+00, -1.3554e+00, -2.1309e+00, -1.2501e+01, -1.0732e+01,\n",
       "         -7.1418e+00, -1.2128e+01, -4.9239e-01, -5.7234e+00, -1.0858e+01],\n",
       "        [-4.8080e+00, -1.3451e+00, -2.1327e+00, -1.2490e+01, -1.0723e+01,\n",
       "         -7.1324e+00, -1.2120e+01, -4.9651e-01, -5.7119e+00, -1.0849e+01],\n",
       "        [-4.8099e+00, -1.3502e+00, -2.1336e+00, -1.2497e+01, -1.0730e+01,\n",
       "         -7.1401e+00, -1.2126e+01, -4.9407e-01, -5.7194e+00, -1.0855e+01],\n",
       "        [-4.8120e+00, -1.3431e+00, -2.1354e+00, -1.2494e+01, -1.0726e+01,\n",
       "         -7.1368e+00, -1.2123e+01, -4.9678e-01, -5.7136e+00, -1.0851e+01],\n",
       "        [-4.8053e+00, -1.3421e+00, -2.1331e+00, -1.2483e+01, -1.0717e+01,\n",
       "         -7.1270e+00, -1.2115e+01, -4.9782e-01, -5.7069e+00, -1.0844e+01],\n",
       "        [-4.8067e+00, -1.3581e+00, -2.1293e+00, -1.2500e+01, -1.0732e+01,\n",
       "         -7.1411e+00, -1.2128e+01, -4.9159e-01, -5.7241e+00, -1.0858e+01],\n",
       "        [-4.8103e+00, -1.3529e+00, -2.1331e+00, -1.2501e+01, -1.0733e+01,\n",
       "         -7.1438e+00, -1.2129e+01, -4.9300e-01, -5.7235e+00, -1.0858e+01],\n",
       "        [-4.8094e+00, -1.3423e+00, -2.1352e+00, -1.2489e+01, -1.0723e+01,\n",
       "         -7.1338e+00, -1.2120e+01, -4.9722e-01, -5.7112e+00, -1.0848e+01],\n",
       "        [-4.8087e+00, -1.3533e+00, -2.1309e+00, -1.2499e+01, -1.0731e+01,\n",
       "         -7.1412e+00, -1.2127e+01, -4.9329e-01, -5.7220e+00, -1.0857e+01],\n",
       "        [-4.8091e+00, -1.3556e+00, -2.1305e+00, -1.2501e+01, -1.0733e+01,\n",
       "         -7.1422e+00, -1.2129e+01, -4.9238e-01, -5.7237e+00, -1.0858e+01],\n",
       "        [-4.8088e+00, -1.3506e+00, -2.1323e+00, -1.2496e+01, -1.0728e+01,\n",
       "         -7.1375e+00, -1.2124e+01, -4.9418e-01, -5.7173e+00, -1.0854e+01],\n",
       "        [-4.8097e+00, -1.3460e+00, -2.1346e+00, -1.2493e+01, -1.0726e+01,\n",
       "         -7.1373e+00, -1.2122e+01, -4.9570e-01, -5.7157e+00, -1.0851e+01],\n",
       "        [-4.8075e+00, -1.3450e+00, -2.1357e+00, -1.2490e+01, -1.0724e+01,\n",
       "         -7.1358e+00, -1.2122e+01, -4.9596e-01, -5.7139e+00, -1.0850e+01],\n",
       "        [-4.8091e+00, -1.3587e+00, -2.1279e+00, -1.2505e+01, -1.0735e+01,\n",
       "         -7.1439e+00, -1.2131e+01, -4.9156e-01, -5.7266e+00, -1.0861e+01],\n",
       "        [-4.8089e+00, -1.3432e+00, -2.1348e+00, -1.2490e+01, -1.0723e+01,\n",
       "         -7.1320e+00, -1.2121e+01, -4.9692e-01, -5.7104e+00, -1.0849e+01],\n",
       "        [-4.8089e+00, -1.3401e+00, -2.1392e+00, -1.2486e+01, -1.0721e+01,\n",
       "         -7.1324e+00, -1.2118e+01, -4.9740e-01, -5.7082e+00, -1.0846e+01],\n",
       "        [-4.8107e+00, -1.3482e+00, -2.1330e+00, -1.2499e+01, -1.0731e+01,\n",
       "         -7.1379e+00, -1.2127e+01, -4.9504e-01, -5.7177e+00, -1.0855e+01],\n",
       "        [-4.8088e+00, -1.3395e+00, -2.1366e+00, -1.2485e+01, -1.0719e+01,\n",
       "         -7.1316e+00, -1.2117e+01, -4.9816e-01, -5.7088e+00, -1.0845e+01],\n",
       "        [-4.8093e+00, -1.3450e+00, -2.1362e+00, -1.2492e+01, -1.0725e+01,\n",
       "         -7.1356e+00, -1.2122e+01, -4.9584e-01, -5.7133e+00, -1.0851e+01],\n",
       "        [-4.8075e+00, -1.3371e+00, -2.1378e+00, -1.2480e+01, -1.0715e+01,\n",
       "         -7.1269e+00, -1.2113e+01, -4.9901e-01, -5.7033e+00, -1.0841e+01],\n",
       "        [-4.8089e+00, -1.3520e+00, -2.1301e+00, -1.2498e+01, -1.0729e+01,\n",
       "         -7.1390e+00, -1.2125e+01, -4.9400e-01, -5.7198e+00, -1.0855e+01],\n",
       "        [-4.8079e+00, -1.3375e+00, -2.1387e+00, -1.2482e+01, -1.0718e+01,\n",
       "         -7.1291e+00, -1.2116e+01, -4.9868e-01, -5.7054e+00, -1.0843e+01],\n",
       "        [-4.8085e+00, -1.3452e+00, -2.1327e+00, -1.2490e+01, -1.0723e+01,\n",
       "         -7.1325e+00, -1.2120e+01, -4.9649e-01, -5.7118e+00, -1.0849e+01],\n",
       "        [-4.8059e+00, -1.3519e+00, -2.1290e+00, -1.2493e+01, -1.0726e+01,\n",
       "         -7.1345e+00, -1.2123e+01, -4.9436e-01, -5.7167e+00, -1.0852e+01],\n",
       "        [-4.8078e+00, -1.3455e+00, -2.1314e+00, -1.2490e+01, -1.0723e+01,\n",
       "         -7.1312e+00, -1.2120e+01, -4.9663e-01, -5.7108e+00, -1.0849e+01],\n",
       "        [-4.8097e+00, -1.3563e+00, -2.1292e+00, -1.2503e+01, -1.0734e+01,\n",
       "         -7.1424e+00, -1.2130e+01, -4.9235e-01, -5.7245e+00, -1.0859e+01],\n",
       "        [-4.8089e+00, -1.3533e+00, -2.1312e+00, -1.2499e+01, -1.0731e+01,\n",
       "         -7.1404e+00, -1.2127e+01, -4.9322e-01, -5.7211e+00, -1.0856e+01],\n",
       "        [-4.8111e+00, -1.3367e+00, -2.1398e+00, -1.2485e+01, -1.0719e+01,\n",
       "         -7.1305e+00, -1.2116e+01, -4.9873e-01, -5.7054e+00, -1.0844e+01],\n",
       "        [-4.8073e+00, -1.3478e+00, -2.1323e+00, -1.2491e+01, -1.0724e+01,\n",
       "         -7.1344e+00, -1.2122e+01, -4.9543e-01, -5.7147e+00, -1.0850e+01],\n",
       "        [-4.8070e+00, -1.3482e+00, -2.1327e+00, -1.2492e+01, -1.0725e+01,\n",
       "         -7.1334e+00, -1.2122e+01, -4.9518e-01, -5.7138e+00, -1.0851e+01],\n",
       "        [-4.8111e+00, -1.3544e+00, -2.1315e+00, -1.2503e+01, -1.0734e+01,\n",
       "         -7.1440e+00, -1.2129e+01, -4.9267e-01, -5.7242e+00, -1.0859e+01],\n",
       "        [-4.8061e+00, -1.3446e+00, -2.1322e+00, -1.2487e+01, -1.0721e+01,\n",
       "         -7.1310e+00, -1.2119e+01, -4.9686e-01, -5.7114e+00, -1.0847e+01],\n",
       "        [-4.8088e+00, -1.3454e+00, -2.1344e+00, -1.2492e+01, -1.0725e+01,\n",
       "         -7.1350e+00, -1.2121e+01, -4.9604e-01, -5.7134e+00, -1.0850e+01],\n",
       "        [-4.8067e+00, -1.3456e+00, -2.1340e+00, -1.2487e+01, -1.0721e+01,\n",
       "         -7.1322e+00, -1.2118e+01, -4.9606e-01, -5.7112e+00, -1.0847e+01],\n",
       "        [-4.8097e+00, -1.3510e+00, -2.1318e+00, -1.2498e+01, -1.0729e+01,\n",
       "         -7.1394e+00, -1.2125e+01, -4.9413e-01, -5.7194e+00, -1.0855e+01],\n",
       "        [-4.8074e+00, -1.3410e+00, -2.1352e+00, -1.2485e+01, -1.0720e+01,\n",
       "         -7.1303e+00, -1.2117e+01, -4.9784e-01, -5.7083e+00, -1.0845e+01],\n",
       "        [-4.8087e+00, -1.3471e+00, -2.1327e+00, -1.2493e+01, -1.0725e+01,\n",
       "         -7.1355e+00, -1.2122e+01, -4.9564e-01, -5.7147e+00, -1.0851e+01],\n",
       "        [-4.8104e+00, -1.3411e+00, -2.1370e+00, -1.2489e+01, -1.0723e+01,\n",
       "         -7.1348e+00, -1.2120e+01, -4.9737e-01, -5.7109e+00, -1.0848e+01],\n",
       "        [-4.8092e+00, -1.3421e+00, -2.1355e+00, -1.2489e+01, -1.0723e+01,\n",
       "         -7.1335e+00, -1.2120e+01, -4.9724e-01, -5.7104e+00, -1.0848e+01],\n",
       "        [-4.8039e+00, -1.3529e+00, -2.1297e+00, -1.2491e+01, -1.0725e+01,\n",
       "         -7.1334e+00, -1.2122e+01, -4.9379e-01, -5.7168e+00, -1.0852e+01],\n",
       "        [-4.8063e+00, -1.3483e+00, -2.1333e+00, -1.2490e+01, -1.0723e+01,\n",
       "         -7.1347e+00, -1.2121e+01, -4.9506e-01, -5.7144e+00, -1.0850e+01],\n",
       "        [-4.8093e+00, -1.3482e+00, -2.1343e+00, -1.2495e+01, -1.0728e+01,\n",
       "         -7.1375e+00, -1.2124e+01, -4.9481e-01, -5.7163e+00, -1.0853e+01],\n",
       "        [-4.8063e+00, -1.3519e+00, -2.1337e+00, -1.2494e+01, -1.0727e+01,\n",
       "         -7.1375e+00, -1.2124e+01, -4.9340e-01, -5.7174e+00, -1.0854e+01],\n",
       "        [-4.8077e+00, -1.3452e+00, -2.1302e+00, -1.2490e+01, -1.0722e+01,\n",
       "         -7.1304e+00, -1.2120e+01, -4.9698e-01, -5.7108e+00, -1.0849e+01],\n",
       "        [-4.8100e+00, -1.3506e+00, -2.1301e+00, -1.2498e+01, -1.0729e+01,\n",
       "         -7.1390e+00, -1.2126e+01, -4.9458e-01, -5.7197e+00, -1.0855e+01],\n",
       "        [-4.8056e+00, -1.3503e+00, -2.1286e+00, -1.2493e+01, -1.0725e+01,\n",
       "         -7.1336e+00, -1.2123e+01, -4.9511e-01, -5.7162e+00, -1.0852e+01],\n",
       "        [-4.8053e+00, -1.3526e+00, -2.1296e+00, -1.2493e+01, -1.0726e+01,\n",
       "         -7.1340e+00, -1.2122e+01, -4.9391e-01, -5.7167e+00, -1.0852e+01],\n",
       "        [-4.8093e+00, -1.3531e+00, -2.1290e+00, -1.2500e+01, -1.0731e+01,\n",
       "         -7.1396e+00, -1.2127e+01, -4.9374e-01, -5.7211e+00, -1.0857e+01],\n",
       "        [-4.8099e+00, -1.3532e+00, -2.1317e+00, -1.2501e+01, -1.0733e+01,\n",
       "         -7.1421e+00, -1.2129e+01, -4.9318e-01, -5.7227e+00, -1.0857e+01],\n",
       "        [-4.8115e+00, -1.3447e+00, -2.1333e+00, -1.2495e+01, -1.0727e+01,\n",
       "         -7.1377e+00, -1.2124e+01, -4.9649e-01, -5.7163e+00, -1.0852e+01],\n",
       "        [-4.8059e+00, -1.3538e+00, -2.1298e+00, -1.2495e+01, -1.0728e+01,\n",
       "         -7.1364e+00, -1.2124e+01, -4.9335e-01, -5.7188e+00, -1.0854e+01],\n",
       "        [-4.8113e+00, -1.3495e+00, -2.1334e+00, -1.2498e+01, -1.0730e+01,\n",
       "         -7.1402e+00, -1.2125e+01, -4.9439e-01, -5.7186e+00, -1.0855e+01],\n",
       "        [-4.8118e+00, -1.3469e+00, -2.1359e+00, -1.2497e+01, -1.0729e+01,\n",
       "         -7.1394e+00, -1.2125e+01, -4.9503e-01, -5.7164e+00, -1.0854e+01],\n",
       "        [-4.8071e+00, -1.3361e+00, -2.1356e+00, -1.2479e+01, -1.0713e+01,\n",
       "         -7.1263e+00, -1.2112e+01, -4.9990e-01, -5.7031e+00, -1.0839e+01],\n",
       "        [-4.8069e+00, -1.3510e+00, -2.1311e+00, -1.2494e+01, -1.0727e+01,\n",
       "         -7.1367e+00, -1.2124e+01, -4.9431e-01, -5.7176e+00, -1.0853e+01],\n",
       "        [-4.8097e+00, -1.3402e+00, -2.1355e+00, -1.2487e+01, -1.0721e+01,\n",
       "         -7.1314e+00, -1.2119e+01, -4.9807e-01, -5.7088e+00, -1.0846e+01],\n",
       "        [-4.8089e+00, -1.3487e+00, -2.1297e+00, -1.2495e+01, -1.0727e+01,\n",
       "         -7.1369e+00, -1.2124e+01, -4.9549e-01, -5.7170e+00, -1.0852e+01],\n",
       "        [-4.8081e+00, -1.3485e+00, -2.1337e+00, -1.2493e+01, -1.0726e+01,\n",
       "         -7.1361e+00, -1.2123e+01, -4.9483e-01, -5.7155e+00, -1.0852e+01],\n",
       "        [-4.8090e+00, -1.3497e+00, -2.1334e+00, -1.2496e+01, -1.0729e+01,\n",
       "         -7.1386e+00, -1.2125e+01, -4.9437e-01, -5.7180e+00, -1.0854e+01],\n",
       "        [-4.8092e+00, -1.3435e+00, -2.1362e+00, -1.2490e+01, -1.0723e+01,\n",
       "         -7.1343e+00, -1.2120e+01, -4.9650e-01, -5.7114e+00, -1.0849e+01],\n",
       "        [-4.8101e+00, -1.3631e+00, -2.1274e+00, -1.2510e+01, -1.0741e+01,\n",
       "         -7.1472e+00, -1.2135e+01, -4.8976e-01, -5.7308e+00, -1.0866e+01],\n",
       "        [-4.8093e+00, -1.3398e+00, -2.1371e+00, -1.2486e+01, -1.0721e+01,\n",
       "         -7.1319e+00, -1.2118e+01, -4.9793e-01, -5.7087e+00, -1.0846e+01],\n",
       "        [-4.8083e+00, -1.3516e+00, -2.1322e+00, -1.2496e+01, -1.0729e+01,\n",
       "         -7.1380e+00, -1.2125e+01, -4.9379e-01, -5.7185e+00, -1.0854e+01],\n",
       "        [-4.8096e+00, -1.3455e+00, -2.1361e+00, -1.2492e+01, -1.0725e+01,\n",
       "         -7.1361e+00, -1.2121e+01, -4.9565e-01, -5.7135e+00, -1.0850e+01],\n",
       "        [-4.8089e+00, -1.3401e+00, -2.1367e+00, -1.2485e+01, -1.0719e+01,\n",
       "         -7.1303e+00, -1.2117e+01, -4.9790e-01, -5.7071e+00, -1.0845e+01]],\n",
       "       device='cuda:0')"
      ]
     },
     "execution_count": 19,
     "metadata": {},
     "output_type": "execute_result"
    }
   ],
   "source": [
    "pred"
   ]
  },
  {
   "cell_type": "code",
   "execution_count": null,
   "metadata": {},
   "outputs": [],
   "source": []
  }
 ],
 "metadata": {
  "kernelspec": {
   "display_name": "Python 3",
   "language": "python",
   "name": "python3"
  },
  "language_info": {
   "codemirror_mode": {
    "name": "ipython",
    "version": 3
   },
   "file_extension": ".py",
   "mimetype": "text/x-python",
   "name": "python",
   "nbconvert_exporter": "python",
   "pygments_lexer": "ipython3",
   "version": "3.7.3"
  }
 },
 "nbformat": 4,
 "nbformat_minor": 4
}
